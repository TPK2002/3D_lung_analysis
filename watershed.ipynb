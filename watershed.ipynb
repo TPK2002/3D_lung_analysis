{
 "cells": [
  {
   "cell_type": "code",
   "id": "initial_id",
   "metadata": {
    "collapsed": true,
    "ExecuteTime": {
     "end_time": "2024-07-19T12:55:55.826832Z",
     "start_time": "2024-07-19T12:55:55.574968Z"
    }
   },
   "source": [
    "import numpy as np\n",
    "import matplotlib.pyplot as plt\n",
    "import napari"
   ],
   "outputs": [],
   "execution_count": 1
  },
  {
   "metadata": {
    "ExecuteTime": {
     "end_time": "2024-07-19T13:21:45.550400Z",
     "start_time": "2024-07-19T13:21:45.447096Z"
    }
   },
   "cell_type": "code",
   "source": [
    "original = np.fromfile('lung424_400x400x400.raw', dtype=np.uint8)\n",
    "original = original.reshape((400, 400, 400))\n",
    "original = original.astype(np.uint16)\n",
    "l_min = np.fromfile('automate_400x400_rays/lung424_400x400x400.raw_400x400x400_20_min.raw', dtype=np.uint16)\n",
    "l_min = l_min.reshape((400, 400, 400))\n",
    "\n",
    "original = original == 0\n",
    "\n",
    "l_min = l_min[:100]\n",
    "original = original[:100]"
   ],
   "id": "eaac13f592a2e6d7",
   "outputs": [],
   "execution_count": 51
  },
  {
   "metadata": {
    "ExecuteTime": {
     "end_time": "2024-07-19T13:25:31.545106Z",
     "start_time": "2024-07-19T13:25:26.030859Z"
    }
   },
   "cell_type": "code",
   "source": [
    "# watershed\n",
    "from skimage.segmentation import watershed\n",
    "from skimage.feature import peak_local_max\n",
    "from scipy import ndimage\n",
    "\n",
    "l_slice = l_min[0]\n",
    "coords = peak_local_max(l_min, min_distance=20, threshold_abs=l_min.mean() + 1.5*l_min.std())\n",
    "\n",
    "#coords = peak_local_max(l_min, min_distance=5, threshold_abs=0.1)\n",
    "print(coords)\n",
    "mask = np.zeros(original.shape, dtype=bool)\n",
    "mask[tuple(coords.T)] = True\n",
    "markers, _ = ndimage.label(mask)\n",
    "\n",
    "labels = watershed(-l_min, markers=markers, mask=original)"
   ],
   "id": "4c76ebc372a6e181",
   "outputs": [
    {
     "name": "stdout",
     "output_type": "stream",
     "text": [
      "[[ 21 239 217]\n",
      " [ 48 269 142]\n",
      " [ 29 115  68]\n",
      " [ 20 113 344]\n",
      " [ 66 119  32]\n",
      " [ 67  25 211]]\n"
     ]
    }
   ],
   "execution_count": 61
  },
  {
   "metadata": {
    "ExecuteTime": {
     "end_time": "2024-07-19T13:25:32.707713Z",
     "start_time": "2024-07-19T13:25:32.297961Z"
    }
   },
   "cell_type": "code",
   "source": [
    "# visualize results\n",
    "viewer = napari.Viewer()\n",
    "viewer.add_image(original, name='original')\n",
    "viewer.add_image(labels, name='labels')"
   ],
   "id": "97b6c24b1d4572d7",
   "outputs": [
    {
     "data": {
      "text/plain": [
       "<Image layer 'labels' at 0x484403140>"
      ]
     },
     "execution_count": 62,
     "metadata": {},
     "output_type": "execute_result"
    }
   ],
   "execution_count": 62
  },
  {
   "metadata": {
    "ExecuteTime": {
     "end_time": "2024-07-19T13:23:54.482363Z",
     "start_time": "2024-07-19T13:23:54.477496Z"
    }
   },
   "cell_type": "code",
   "source": "markers",
   "id": "6eaecb01a670a1c",
   "outputs": [
    {
     "data": {
      "text/plain": [
       "array([[[0, 0, 0, ..., 0, 0, 0],\n",
       "        [0, 0, 0, ..., 0, 0, 0],\n",
       "        [0, 0, 0, ..., 0, 0, 0],\n",
       "        ...,\n",
       "        [0, 0, 0, ..., 0, 0, 0],\n",
       "        [0, 0, 0, ..., 0, 0, 0],\n",
       "        [0, 0, 0, ..., 0, 0, 0]],\n",
       "\n",
       "       [[0, 0, 0, ..., 0, 0, 0],\n",
       "        [0, 0, 0, ..., 0, 0, 0],\n",
       "        [0, 0, 0, ..., 0, 0, 0],\n",
       "        ...,\n",
       "        [0, 0, 0, ..., 0, 0, 0],\n",
       "        [0, 0, 0, ..., 0, 0, 0],\n",
       "        [0, 0, 0, ..., 0, 0, 0]],\n",
       "\n",
       "       [[0, 0, 0, ..., 0, 0, 0],\n",
       "        [0, 0, 0, ..., 0, 0, 0],\n",
       "        [0, 0, 0, ..., 0, 0, 0],\n",
       "        ...,\n",
       "        [0, 0, 0, ..., 0, 0, 0],\n",
       "        [0, 0, 0, ..., 0, 0, 0],\n",
       "        [0, 0, 0, ..., 0, 0, 0]],\n",
       "\n",
       "       ...,\n",
       "\n",
       "       [[0, 0, 0, ..., 0, 0, 0],\n",
       "        [0, 0, 0, ..., 0, 0, 0],\n",
       "        [0, 0, 0, ..., 0, 0, 0],\n",
       "        ...,\n",
       "        [0, 0, 0, ..., 0, 0, 0],\n",
       "        [0, 0, 0, ..., 0, 0, 0],\n",
       "        [0, 0, 0, ..., 0, 0, 0]],\n",
       "\n",
       "       [[0, 0, 0, ..., 0, 0, 0],\n",
       "        [0, 0, 0, ..., 0, 0, 0],\n",
       "        [0, 0, 0, ..., 0, 0, 0],\n",
       "        ...,\n",
       "        [0, 0, 0, ..., 0, 0, 0],\n",
       "        [0, 0, 0, ..., 0, 0, 0],\n",
       "        [0, 0, 0, ..., 0, 0, 0]],\n",
       "\n",
       "       [[0, 0, 0, ..., 0, 0, 0],\n",
       "        [0, 0, 0, ..., 0, 0, 0],\n",
       "        [0, 0, 0, ..., 0, 0, 0],\n",
       "        ...,\n",
       "        [0, 0, 0, ..., 0, 0, 0],\n",
       "        [0, 0, 0, ..., 0, 0, 0],\n",
       "        [0, 0, 0, ..., 0, 0, 0]]], dtype=int32)"
      ]
     },
     "execution_count": 59,
     "metadata": {},
     "output_type": "execute_result"
    }
   ],
   "execution_count": 59
  },
  {
   "metadata": {
    "ExecuteTime": {
     "end_time": "2024-07-19T13:14:40.926711Z",
     "start_time": "2024-07-19T13:14:40.449596Z"
    }
   },
   "cell_type": "code",
   "source": "napari.imshow(markers)",
   "id": "3d97e8673aa2adc5",
   "outputs": [
    {
     "data": {
      "text/plain": [
       "(Viewer(camera=Camera(center=(0.0, np.float64(199.5), np.float64(199.5)), zoom=np.float64(3.417966360856269), angles=(0.0, 0.0, 90.0), perspective=0.0, mouse_pan=True, mouse_zoom=True), cursor=Cursor(position=(np.float64(0.0), 1.0, 0.0), scaled=True, style=<CursorStyle.STANDARD: 'standard'>, size=1.0), dims=Dims(ndim=3, ndisplay=2, order=(0, 1, 2), axis_labels=('0', '1', '2'), rollable=(True, True, True), range=(RangeTuple(start=np.float64(0.0), stop=np.float64(1.0), step=np.float64(1.0)), RangeTuple(start=np.float64(0.0), stop=np.float64(399.0), step=np.float64(1.0)), RangeTuple(start=np.float64(0.0), stop=np.float64(399.0), step=np.float64(1.0))), margin_left=(0.0, 0.0, 0.0), margin_right=(0.0, 0.0, 0.0), point=(np.float64(0.0), np.float64(199.0), np.float64(199.0)), last_used=0), grid=GridCanvas(stride=1, shape=(-1, -1), enabled=False), layers=[<Image layer 'markers' at 0x46fddf2f0>], help='use <2> for transform', status='Ready', tooltip=Tooltip(visible=False, text=''), theme='dark', title='napari', mouse_over_canvas=False, mouse_move_callbacks=[], mouse_drag_callbacks=[], mouse_double_click_callbacks=[], mouse_wheel_callbacks=[<function dims_scroll at 0x444e953a0>], _persisted_mouse_event={}, _mouse_drag_gen={}, _mouse_wheel_gen={}, _keymap={}),\n",
       " <Image layer 'markers' at 0x46fddf2f0>)"
      ]
     },
     "execution_count": 33,
     "metadata": {},
     "output_type": "execute_result"
    }
   ],
   "execution_count": 33
  },
  {
   "metadata": {},
   "cell_type": "code",
   "outputs": [],
   "execution_count": null,
   "source": "",
   "id": "94829f8f5b859158"
  }
 ],
 "metadata": {
  "kernelspec": {
   "display_name": "Python 3",
   "language": "python",
   "name": "python3"
  },
  "language_info": {
   "codemirror_mode": {
    "name": "ipython",
    "version": 2
   },
   "file_extension": ".py",
   "mimetype": "text/x-python",
   "name": "python",
   "nbconvert_exporter": "python",
   "pygments_lexer": "ipython2",
   "version": "2.7.6"
  }
 },
 "nbformat": 4,
 "nbformat_minor": 5
}
